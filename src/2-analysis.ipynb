{
 "cells": [
  {
   "cell_type": "code",
   "execution_count": null,
   "metadata": {},
   "outputs": [],
   "source": [
    "import pandas as pd\n",
    "from pathlib import Path\n",
    "import numpy as np\n",
    "from utils import get_tx_from_nb, plot_horizontal_barchart, highlight_corr\n",
    "import plotly.express as px\n",
    "import joblib "
   ]
  },
  {
   "cell_type": "code",
   "execution_count": null,
   "metadata": {},
   "outputs": [],
   "source": [
    "path_data = Path('../data/')\n",
    "path_df_stagiaire = path_data / 'df_stagiaire.pkl'\n",
    "path_df_intervenant = path_data / \"df_intervenant.pkl\"\n",
    "path_labels = path_data / \"labels.pkl\"\n",
    "path_outputs = path_data / \"outputs\"\n",
    "df = pd.read_pickle(path_df_stagiaire)\n",
    "df_int = pd.read_pickle(path_df_intervenant)\n",
    "with open(path_labels, \"rb\") as f: labels = joblib.load(f)"
   ]
  },
  {
   "cell_type": "markdown",
   "metadata": {},
   "source": [
    "## contexte"
   ]
  },
  {
   "cell_type": "code",
   "execution_count": null,
   "metadata": {},
   "outputs": [],
   "source": [
    "nb_fi = len(df)\n",
    "print(f\"nombre d'étudiants en formation initiale: {nb_fi}\")"
   ]
  },
  {
   "cell_type": "markdown",
   "metadata": {},
   "source": [
    "## analyse - satisfaction globale"
   ]
  },
  {
   "cell_type": "code",
   "execution_count": null,
   "metadata": {},
   "outputs": [],
   "source": [
    "cnt_sondage = dict()\n",
    "cnt_sondage[\"Satisfaction globale\"] = sum([df[f\"Satisfaction globale.EV{i}\"].value_counts() for i in range(1, 6)])\n",
    "cnt_sondage[\"Organisation\"] = sum([df[f\"Organisation.EV{i}\"].value_counts() for i in range(1, 6)])\n",
    "cnt_sondage[\"Pédagogie\"] = sum([df[f\"Pédagogie.EV{i}\"].value_counts() for i in range(1, 7)])\n",
    "cnt_sondage[\"motivation\"] = sum([df[f\"motivation.EV{i}\"].value_counts() for i in range(1, 7)])\n",
    "\n",
    "for k in cnt_sondage:\n",
    "    cnt_sondage[k] = list(cnt_sondage[k].replace(np.nan, 0).values)\n",
    "\n",
    "res_sondage_nb = {\"\": cnt_sondage}\n",
    "res_sondage_tx = get_tx_from_nb(res_sondage_nb)"
   ]
  },
  {
   "cell_type": "code",
   "execution_count": null,
   "metadata": {},
   "outputs": [],
   "source": [
    "cats = list(res_sondage_tx[\"\"].keys())\n",
    "\n",
    "i = 2\n",
    "ic = True\n",
    "iv = False\n",
    "il = False\n",
    "pct = True\n",
    "\n",
    "top_labels = labels[\"likert\"]\n",
    "print(cats)\n",
    "title = f\"\"\n",
    "plot_horizontal_barchart(cats, res_sondage_tx[\"\"], top_labels, inv_cats=ic, inv_values=iv, inv_labels=il, pct=pct, title=title)\n"
   ]
  },
  {
   "cell_type": "code",
   "execution_count": null,
   "metadata": {},
   "outputs": [],
   "source": [
    "for c in [\"MOYENNE_Satisfaction globale\", \"MOYENNE_Pédagogie\", \"MOYENNE_Organisation\", \"MOYENNE_motivation\"]:\n",
    "    print(f\"{c}: {df[c].mean():.2f}\")"
   ]
  },
  {
   "attachments": {},
   "cell_type": "markdown",
   "metadata": {},
   "source": [
    "## analyse - par module"
   ]
  },
  {
   "cell_type": "code",
   "execution_count": null,
   "metadata": {},
   "outputs": [],
   "source": [
    "# Satisfaction globale, Motivation, Pédagogie, Organisation\n",
    "modules = [f\"module {i}\" for i in range(1, 6)] + [\"évaluation finale\"]\n",
    "mesures = [\"Satisfaction globale\", \"motivation\", \"Pédagogie\", \"Organisation\"]\n",
    "mod_likert_nb = {mes:dict() for mes in mesures}\n",
    "\n",
    "for mes in mesures:\n",
    "    mod_likert_nb[mes] = dict()\n",
    "    for i in range(1,6):\n",
    "        mod = modules[i-1]\n",
    "        col = f\"{mes}.EV{i}\"\n",
    "        mod_likert_nb[mes][mod] = [(df[col] == n).sum() for n in range(1,5)]\n",
    "\n",
    "    if mes in [\"motivation\", \"Pédagogie\"]:\n",
    "        mod = modules[-1]\n",
    "        col = f\"{mes}.EV6\"\n",
    "        mod_likert_nb[mes][mod] = [(df[col] == n).sum() for n in range(1,5)]"
   ]
  },
  {
   "cell_type": "code",
   "execution_count": null,
   "metadata": {},
   "outputs": [],
   "source": [
    "cats = [f\"module {i}\" for i in range(1, 6)] + [\"évaluation finale\"]\n",
    "\n",
    "\n",
    "include_EF = False\n",
    "i = 2\n",
    "ic = True\n",
    "iv = False\n",
    "il = False\n",
    "pct = True\n",
    "\n",
    "if not include_EF: cats = cats[:-1]\n",
    "\n",
    "for mes in mesures:\n",
    "    #mes = mesures[i]\n",
    "    top_labels = labels[\"likert\"]\n",
    "    mod_likert_tx = get_tx_from_nb(mod_likert_nb)\n",
    "    print(mes)\n",
    "    print(mod_likert_tx[mes])\n",
    "    title = f\"{mes} par module\"\n",
    "    plot_horizontal_barchart(cats, mod_likert_tx[mes], top_labels, inv_cats=ic, inv_values=iv, inv_labels=il, pct=pct, title=title)\n"
   ]
  },
  {
   "cell_type": "code",
   "execution_count": null,
   "metadata": {},
   "outputs": [],
   "source": [
    "## tableau de performance par module\n",
    "# taux de présence moyen\n",
    "# nb stagiaires ayant assisté à l'ensemble des sessions présentielles du module\n",
    "# nb d'abandons suite au module\n",
    "# note moyenne (étudiants ayant participé au moins à 1 journée présentielle)\n",
    "# (int) engagement des étudiants\n",
    "# (int) satisfaction globale\n",
    "# (int) satisfaction sur l'organisation\n",
    "data_module = dict()\n",
    "data_module[\"module\"] = range(1, 6)"
   ]
  },
  {
   "cell_type": "code",
   "execution_count": null,
   "metadata": {},
   "outputs": [],
   "source": [
    "# taux de présence par module\n",
    "data_module[\"tx_presence_module\"] = [df[[f\"PJ{i}\" for i in range(1 + (imod-1)*3, 4 + (imod-1)*3)]].sum(axis=1).sum()/(3*len(df)) for imod in range(1, 6)]\n",
    "data_module[\"tx_presence_module\"] = [round(x*100)/100 for x in data_module[\"tx_presence_module\"]]"
   ]
  },
  {
   "cell_type": "code",
   "execution_count": null,
   "metadata": {},
   "outputs": [],
   "source": [
    "# nombre de présents sur tout le module\n",
    "#data_module[\"nb_present_tout_module\"] = [df[f\"present_tout_module_{i}\"].sum() for i in range(1,6)]"
   ]
  },
  {
   "cell_type": "code",
   "execution_count": null,
   "metadata": {},
   "outputs": [],
   "source": [
    "## nombre d'abandons\n",
    "data_module[f\"nb_abandons_apres_module\"] = [df[f\"abandon_apres_module_{i}\"].sum() for i in range(1, 6)]\n",
    "print(f\"% de la promotion abandonnant après la fin du premier module: {data_module['nb_abandons_apres_module'][0]/len(df):.0%}\")"
   ]
  },
  {
   "cell_type": "code",
   "execution_count": null,
   "metadata": {},
   "outputs": [],
   "source": [
    "## note moyenne (étudiants ayant participé au moins à 1 journée présentielle)\n",
    "note_moy = list()\n",
    "for i in range(1, 6):\n",
    "    b = ~df[f\"absent_module_{i}\"]\n",
    "    moy = df[b][f\"REV{i}\"].mean()\n",
    "    moy = round(moy*100)/100\n",
    "    note_moy.append(moy)\n",
    "data_module[\"note_moyenne\"] = note_moy"
   ]
  },
  {
   "cell_type": "code",
   "execution_count": null,
   "metadata": {},
   "outputs": [],
   "source": [
    "## satisfaction des intervenants:\n",
    "# satisfaction globale\n",
    "# engagement des étudiants\n",
    "# organisation du module\n",
    "interv_engag = list()\n",
    "interv_orga = list()\n",
    "interv_satis = list()\n",
    "for i in range(1, 6):\n",
    "    interv_engag.append(df_int[f\"Implication étudiants.EV{i}\"].mean())\n",
    "    interv_orga.append(df_int[f\"Organisation.EV{i}\"].mean())\n",
    "    interv_satis.append(df_int[f\"Satisfaction globale.EV{i}\"].mean())\n",
    "data_module[\"interv_engag\"] = interv_engag\n",
    "data_module[\"interv_orga\"] = interv_orga\n",
    "data_module[\"interv_satis\"] = interv_satis"
   ]
  },
  {
   "cell_type": "code",
   "execution_count": null,
   "metadata": {},
   "outputs": [],
   "source": [
    "## ajout de la satisfaction des apprenants en moyenne sur chaque module\n",
    "data_module[\"sta_motivation\"] = [round(df[f\"motivation.EV{i}\"].mean()*100)/100 for i in range(1, 6)]\n",
    "data_module[\"sta_peda\"] = [round(df[f\"Pédagogie.EV{i}\"].mean()*100)/100 for i in range(1, 6)]\n",
    "data_module[\"sta_orga\"] = [round(df[f\"Organisation.EV{i}\"].mean()*100)/100 for i in range(1, 6)]\n",
    "data_module[\"sta_global\"] = [round(df[f\"Satisfaction globale.EV{i}\"].mean()*100)/100 for i in range(1, 6)]"
   ]
  },
  {
   "cell_type": "code",
   "execution_count": null,
   "metadata": {},
   "outputs": [],
   "source": [
    "df_data_module = pd.DataFrame(data_module)\n",
    "df_data_module.to_excel(path_outputs / \"df_module.xlsx\")"
   ]
  },
  {
   "cell_type": "code",
   "execution_count": null,
   "metadata": {},
   "outputs": [],
   "source": [
    "df_data_module = pd.DataFrame(data_module)\n",
    "df_data_module[\"tx_presence_module\"] = df_data_module[\"tx_presence_module\"] * 100\n",
    "fig = px.line(data_frame=df_data_module, x=\"module\", y=\"tx_presence_module\", labels = {\"tx_presence_module\": \"Taux de présence\", \"module\": \"Module\"})\n",
    "fig.update_layout(\n",
    "    xaxis = dict(\n",
    "        tickmode = 'linear',\n",
    "        tick0 = 1,\n",
    "        dtick = 1\n",
    "    ),\n",
    "    yaxis = dict(\n",
    "        tickmode = 'linear',\n",
    "        tick0 = 50,\n",
    "        dtick = 10 \n",
    "    ), \n",
    "    yaxis_ticksuffix = \"%\"\n",
    ")\n",
    "fig.update_xaxes(tickfont_size=20, title_font_size=30)\n",
    "fig.update_yaxes(tickfont_size=20, title_font_size=30)\n",
    "fig.show()"
   ]
  },
  {
   "cell_type": "code",
   "execution_count": null,
   "metadata": {},
   "outputs": [],
   "source": [
    "tx_pres_pef = df[\"PEF\"].mean()\n",
    "print(f\"taux de présence à la journée d'évaluation finale: {tx_pres_pef:.0%}\")"
   ]
  },
  {
   "cell_type": "code",
   "execution_count": null,
   "metadata": {},
   "outputs": [],
   "source": [
    "df_data_module.corr(\"spearman\").style.applymap(lambda x: \"color: red;\")"
   ]
  },
  {
   "attachments": {},
   "cell_type": "markdown",
   "metadata": {},
   "source": [
    "## analyse - par absentéisme"
   ]
  },
  {
   "cell_type": "code",
   "execution_count": null,
   "metadata": {},
   "outputs": [],
   "source": [
    "# satisfaction globale, motivation, pédagogie, Organisation PAR absentéisme\n",
    "mesures = [\"Satisfaction globale\", \"motivation\", \"Pédagogie\", \"Organisation\"]\n",
    "pre_likert_nb = {mes:dict() for mes in mesures}\n",
    "\n",
    "for mes in mesures:\n",
    "    pre_likert_nb[mes] = dict()\n",
    "    for pre in labels[\"presence\"]:\n",
    "        tmp = df.loc[df[\"pre_tx_lab\"] == pre]\n",
    "        pre_likert_nb[mes][pre] = [ sum([(tmp[f\"{mes}.EV{i_mod}\"] == i_lik).sum() for i_mod in range(1, 6)]) for i_lik in range(1, 5)]"
   ]
  },
  {
   "cell_type": "code",
   "execution_count": null,
   "metadata": {},
   "outputs": [],
   "source": [
    "pre_likert_nb"
   ]
  },
  {
   "cell_type": "code",
   "execution_count": null,
   "metadata": {},
   "outputs": [],
   "source": [
    "## nombre de personnes par catégories\n",
    "for pre in labels[\"presence\"]:\n",
    "    nb = (df[\"pre_tx_lab\"] == pre).sum()\n",
    "    print(f\"Nombre de {pre}: {nb} ({nb/len(df):.0%})\")"
   ]
  },
  {
   "cell_type": "code",
   "execution_count": null,
   "metadata": {},
   "outputs": [],
   "source": [
    "## nombre de personnes par catégories\n",
    "tx_rep_list = list()\n",
    "for pre in labels[\"presence\"]:\n",
    "    b = df[\"pre_tx_lab\"] == pre\n",
    "    tx_reponse = (~df.loc[b][\"motivation.EV1\"].isna()).mean()\n",
    "    tx_rep_list.append(tx_reponse)\n",
    "    print(f\"Taux de réponse aux questionnaire de satisfaction pour les {pre}: {nb} ({tx_reponse:.0%})\")\n",
    "\n",
    "df_tmp = pd.DataFrame({\"profil_présence\": labels[\"presence\"], \"taux_réponse_sondage\": tx_rep_list})\n",
    "fig = px.bar(df_tmp, x=\"taux_réponse_sondage\", y=\"profil_présence\", orientation='h')\n",
    "fig.show()"
   ]
  },
  {
   "cell_type": "code",
   "execution_count": null,
   "metadata": {},
   "outputs": [],
   "source": [
    "pre_likert_tx = get_tx_from_nb(pre_likert_nb)\n",
    "\n",
    "cats = labels[\"presence\"]\n",
    "i = 3\n",
    "ic = True\n",
    "iv = False\n",
    "il = False\n",
    "pct = True\n",
    "\n",
    "mes = mesures[i]\n",
    "top_labels = labels[\"likert\"]\n",
    "print(mes)\n",
    "print(pre_likert_tx[mes])\n",
    "title = f\"{mes} par taux de présence\"\n",
    "plot_horizontal_barchart(cats, pre_likert_tx[mes], top_labels, inv_cats=ic, inv_values=iv, inv_labels=il, pct=pct, title=title)\n"
   ]
  },
  {
   "cell_type": "code",
   "execution_count": null,
   "metadata": {},
   "outputs": [],
   "source": [
    "## réussite académique par taux de présence\n",
    "presence = labels[\"presence\"]\n",
    "pre_aca_nb = {\"Réussite académique\": dict()}\n",
    "aca_labs = [\"échec\", \"moyen\", \"bon\", \"excellent\"]\n",
    "\n",
    "for pre in presence:\n",
    "    tmp = df.loc[df[\"pre_tx_lab\"] == pre]\n",
    "    pre_aca_nb[\"Réussite académique\"][pre] = [ (tmp[\"academic_lab\"] == aca).sum() for aca in aca_labs]\n",
    "pre_aca_tx = get_tx_from_nb(pre_aca_nb)"
   ]
  },
  {
   "cell_type": "code",
   "execution_count": null,
   "metadata": {},
   "outputs": [],
   "source": [
    "## Score NPS par taux de présence\n",
    "abs_nps_nb = {\"Profil NPS\": dict()}\n",
    "for pre in labels[\"presence\"]:\n",
    "    b = (df[\"pre_tx_lab\"] == pre)\n",
    "    abs_nps_nb[\"Profil NPS\"][pre] = [(df.loc[b][\"NPS_LABEL\"] == prf).sum() for prf in labels[\"NPS\"]]\n",
    "abs_nps_tx = get_tx_from_nb(abs_nps_nb)"
   ]
  },
  {
   "cell_type": "code",
   "execution_count": null,
   "metadata": {},
   "outputs": [],
   "source": [
    "cats = labels[\"presence\"]\n",
    "i = 3\n",
    "ic = False\n",
    "iv = True\n",
    "il = True\n",
    "pct = True\n",
    "\n",
    "mes = \"Profil NPS\"\n",
    "top_labels = labels[\"NPS\"]\n",
    "print(mes)\n",
    "print(abs_nps_tx[mes])\n",
    "title = f\"{mes} par taux de présence\"\n",
    "plot_horizontal_barchart(cats, abs_nps_tx[mes], top_labels, inv_cats=ic, inv_values=iv, inv_labels=il, pct=pct, title=title)"
   ]
  },
  {
   "cell_type": "markdown",
   "metadata": {},
   "source": [
    "## score NPS"
   ]
  },
  {
   "attachments": {},
   "cell_type": "markdown",
   "metadata": {},
   "source": [
    "[Net promoter Score](https://fr.wikipedia.org/wiki/Net_Promoter_Score): estime la probabilité que les apprenants recommendent le cours à un ami ou collègue\n",
    "- Les détracteurs (Score de 0 à 6)\n",
    "- les passifs (NPS de 7 à 8)\n",
    "- les promoteurs (NPS de 9 à 10)\n"
   ]
  },
  {
   "cell_type": "code",
   "execution_count": null,
   "metadata": {},
   "outputs": [],
   "source": [
    "print(f\"Score NPS moyen: {df['NPS.EV6'].mean():.1f}\")"
   ]
  },
  {
   "cell_type": "code",
   "execution_count": null,
   "metadata": {},
   "outputs": [],
   "source": [
    "profils_nps = dict()\n",
    "nb_scores = df[\"NPS_LABEL\"].isin(labels[\"NPS\"]).sum()\n",
    "for pr in labels[\"NPS\"]:\n",
    "    profils_nps[pr] = (df[\"NPS_LABEL\"] == pr).sum()\n",
    "    moy = profils_nps[pr]/nb_scores\n",
    "    print(f\"nombre de {pr}: {profils_nps[pr]} ({moy:.0%})\")\n"
   ]
  },
  {
   "cell_type": "markdown",
   "metadata": {},
   "source": [
    "## engagement sur plateforme"
   ]
  },
  {
   "cell_type": "code",
   "execution_count": null,
   "metadata": {},
   "outputs": [],
   "source": [
    "print(f\"Taux d'engagement moyen sur la plateforme: {df['OC_engag_tx'].mean():.0%}\")"
   ]
  },
  {
   "cell_type": "code",
   "execution_count": null,
   "metadata": {},
   "outputs": [],
   "source": [
    "## lien entre engagement sur la plateforme et succès académique\n",
    "data = {\"engagement\": labels[\"OC_engagement\"]}\n",
    "nb = [(df[\"OC_engag_label\"] == e).sum() for e in labels[\"OC_engagement\"]]\n",
    "nb_pct = [f\"{n} ({n/sum(nb):.0%})\" for n in nb]\n",
    "data[\"nombre\"] = nb_pct\n",
    "\n",
    "for aca in labels[\"perf_academique\"]:\n",
    "    b = (df[\"academic_lab\"] == aca)\n",
    "    data[aca] = [(df[b][\"OC_engag_label\"] == e).sum() for e in labels[\"OC_engagement\"]]\n",
    "\n",
    "df_eng = pd.DataFrame(data)\n",
    "df_eng"
   ]
  },
  {
   "cell_type": "code",
   "execution_count": null,
   "metadata": {},
   "outputs": [],
   "source": [
    "pd.DataFrame({\"engagement\": df[\"OC_engag_tx\"], \"succès académique\": df[\"MOYENNE_EV\"]}).corr(method=\"spearman\")"
   ]
  },
  {
   "attachments": {},
   "cell_type": "markdown",
   "metadata": {},
   "source": [
    "Forte correlation entre l'**engagement** sur la plateforme et le **succès académique**\n",
    "--> Utiliser la métrique d'engagement sur la plateforme de manière proactive durant la formation pour relancer les personnes qui en sont désengagée."
   ]
  },
  {
   "cell_type": "code",
   "execution_count": null,
   "metadata": {},
   "outputs": [],
   "source": [
    "## lien entre fréquence de connexion et succès académique\n",
    "data = {\"fréquence de connection\": labels[\"OC_frequence\"]}\n",
    "nb = [(df[\"OC_F_lab\"] == e).sum() for e in labels[\"OC_frequence\"]]\n",
    "nb_pct = [f\"{n} ({n/sum(nb):.0%})\" for n in nb]\n",
    "data[\"nombre\"] = nb_pct\n",
    "\n",
    "for aca in labels[\"perf_academique\"]:\n",
    "    b = (df[\"academic_lab\"] == aca)\n",
    "    data[aca] = [(df[b][\"OC_F_lab\"] == e).sum() for e in labels[\"OC_frequence\"]]\n",
    "    data[f\"{aca}_pct\"] = data[aca]/sum(data[aca])\n",
    "\n",
    "df_eng = pd.DataFrame(data)\n",
    "df_eng"
   ]
  },
  {
   "cell_type": "code",
   "execution_count": null,
   "metadata": {},
   "outputs": [],
   "source": [
    "pd.DataFrame({\"fréquence de connection\": df[\"OC_F\"], \"succès académique\": df[\"MOYENNE_EV\"]}).corr(method=\"spearman\")"
   ]
  },
  {
   "attachments": {},
   "cell_type": "markdown",
   "metadata": {},
   "source": [
    "Fréquence de connection est positivement corrélée avec le succès académique, mais moins que l'engagement sur la plateforme.\n",
    "Hypothèse: une haute fréquence de connection peut refléter une **démarche active** de l'apprenant.\n",
    "Cependant, les stratégies sont variées chez les excellents profils -> le plus important est de trouver sa propre manière d'apprendre"
   ]
  },
  {
   "cell_type": "code",
   "execution_count": null,
   "metadata": {},
   "outputs": [],
   "source": [
    "## lien entre engagement sur plateforme et présence\n",
    "pd.DataFrame({\"engagement\": df[\"OC_engag_tx\"], \"présence\": df[\"pre_tx\"], \"NPS\": df[\"NPS.EV6\"]}).corr(method=\"spearman\")"
   ]
  },
  {
   "cell_type": "markdown",
   "metadata": {},
   "source": [
    "## correlation des indicateurs"
   ]
  },
  {
   "cell_type": "code",
   "execution_count": null,
   "metadata": {},
   "outputs": [],
   "source": [
    "col_corr = [c for c in df.columns if c.startswith(\"MOYENNE_\")]\n",
    "col_corr += [\"motivation.EV6\", \"Pédagogie.EV6\",\"Insertionpro.EV6\",\"NPS.EV6\", \"PEF\"]\n",
    "col_corr += [\"pre_tx\", \"SUCCES\", \"OC_engag_tx\"]\n",
    "df_corr = df[col_corr].corr(method=\"spearman\")\n",
    "s = df_corr.style.applymap(highlight_corr)\n",
    "s\n",
    "df_corr.to_excel(path_outputs / \"correlation.xlsx\")"
   ]
  }
 ],
 "metadata": {
  "kernelspec": {
   "display_name": ".venv",
   "language": "python",
   "name": "python3"
  },
  "language_info": {
   "codemirror_mode": {
    "name": "ipython",
    "version": 3
   },
   "file_extension": ".py",
   "mimetype": "text/x-python",
   "name": "python",
   "nbconvert_exporter": "python",
   "pygments_lexer": "ipython3",
   "version": "3.10.6"
  },
  "orig_nbformat": 4,
  "vscode": {
   "interpreter": {
    "hash": "1f60db0b487e58e23ccb7d96ed9a2787f210c2b4498dd558c03be219b1ec385c"
   }
  }
 },
 "nbformat": 4,
 "nbformat_minor": 2
}
