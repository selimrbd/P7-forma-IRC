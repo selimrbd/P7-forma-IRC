{
 "cells": [
  {
   "cell_type": "code",
   "execution_count": 1,
   "metadata": {},
   "outputs": [],
   "source": [
    "import pandas as pd\n",
    "from pathlib import Path\n",
    "from utils import define_label\n",
    "from functools import partial\n",
    "import joblib"
   ]
  },
  {
   "cell_type": "code",
   "execution_count": 2,
   "metadata": {},
   "outputs": [],
   "source": [
    "path_data = Path(\"../data\")\n",
    "path_data_raw = path_data / \"raw\"\n",
    "path_peda = path_data_raw/\"donnees-peda.csv\"\n",
    "path_sat_sta = path_data_raw/\"satisfaction-stagiaires.csv\"\n",
    "path_sat_ens = path_data_raw/\"satisfaction-enseignants.csv\"\n",
    "\n",
    "dfp = pd.read_csv(path_peda)\n",
    "dfs_s = pd.read_csv(path_sat_sta, skiprows=1)\n",
    "dfs_e = pd.read_csv(path_sat_ens)"
   ]
  },
  {
   "cell_type": "code",
   "execution_count": 3,
   "metadata": {},
   "outputs": [],
   "source": [
    "dfp[\"NOM_COMPLET\"] = dfp[\"NOM\"] + \" \" + dfp[\"PRENOM\"]\n",
    "dfs_s = dfs_s.loc[~dfs_s[\"NOM\"].isna()]\n",
    "dfs_s[\"NOM_COMPLET\"] = dfs_s[\"NOM\"] + \" \" + dfs_s[\"PRENOM\"]\n",
    "dfs_e[\"NOM_COMPLET\"] = dfs_e[\"NOM\"] + \" \" + dfs_e[\"PRENOM\"]"
   ]
  },
  {
   "cell_type": "code",
   "execution_count": 4,
   "metadata": {},
   "outputs": [],
   "source": [
    "## Stagiaires en Formation Initiale (FI) ou Formation Continue (FC)\n",
    "b_fi = dfp[\"FI/FC\"] == \"FI\"\n",
    "b_fc = dfp[\"FI/FC\"] == \"FC\"\n",
    "\n",
    "noms_sta_satis = dfs_s[\"NOM_COMPLET\"]\n",
    "noms_sta_FI = dfp[\"NOM_COMPLET\"].loc[b_fi]\n",
    "noms_sta_FC = dfp[\"NOM_COMPLET\"].loc[b_fc]\n",
    "\n",
    "# ajout de la colonne FI / FC pour les données de satisfaction\n",
    "dfs_s[\"is_FI\"] = dfs_s[\"NOM_COMPLET\"].isin(noms_sta_FI)\n",
    "dfs_s[\"FI/FC\"] = [\"FI\"*ii + (1-ii)*\"FC\" for ii in dfs_s[\"is_FI\"]]\n",
    "\n",
    "# garder uniquement les formations initiales\n",
    "dfs_s = dfs_s[dfs_s[\"FI/FC\"] == \"FI\"]\n",
    "dfp = dfp[dfp[\"FI/FC\"] == \"FI\"]"
   ]
  },
  {
   "cell_type": "code",
   "execution_count": 5,
   "metadata": {},
   "outputs": [],
   "source": [
    "# combiner les 2 jeux de données (péda + satisfaction)\n",
    "df = pd.merge(left=dfs_s, right=dfp, on=[\"NOM_COMPLET\", \"NOM\", \"PRENOM\"], how=\"right\")"
   ]
  },
  {
   "cell_type": "markdown",
   "metadata": {},
   "source": [
    "## feature engineering"
   ]
  },
  {
   "cell_type": "code",
   "execution_count": 6,
   "metadata": {},
   "outputs": [],
   "source": [
    "labels = dict()"
   ]
  },
  {
   "cell_type": "code",
   "execution_count": 7,
   "metadata": {},
   "outputs": [],
   "source": [
    "## LIKERT - MOYENNE\n",
    "cats = [\"Satisfaction globale\", \"motivation\", \"Pédagogie\", \"Organisation\"]\n",
    "## calculer les moyennes\n",
    "for c in cats:\n",
    "    cols = [f\"{c}.EV{i}\" for i in range(1, 6)]\n",
    "    df[f\"MOYENNE_{c}\"] = df[cols].mean(axis=1)"
   ]
  },
  {
   "cell_type": "code",
   "execution_count": 8,
   "metadata": {},
   "outputs": [],
   "source": [
    "## TAUX DE PRESENCE\n",
    "for imod in range(1,6):\n",
    "    cols = [f\"PJ{i}\" for i in range(1+(imod-1)*3, 4+(imod-1)*3)]\n",
    "    df[f\"pre_{imod}_tx\"] = df[cols].sum(axis=1)/len(cols)\n",
    "cols = [f\"PJ{i}\" for i in range(1, 16)]\n",
    "df[\"pre_tx\"] = df[cols].sum(axis=1)/len(cols)\n",
    "\n",
    "cuts = [0.5, 0.79]\n",
    "labels[\"presence\"] = [\"absent(e)\", \"intermittent(e)\", \"assidu(e)\"]\n",
    "\n",
    "define_pre_label = partial(define_label, cuts = cuts, labs = labels[\"presence\"])\n",
    "    \n",
    "df[\"pre_tx_lab\"] = df[\"pre_tx\"].apply(define_pre_label)"
   ]
  },
  {
   "cell_type": "code",
   "execution_count": 9,
   "metadata": {},
   "outputs": [],
   "source": [
    "## REUSSITE ACADEMIQUE\n",
    "# moyenne totale pour chaque étudiant\n",
    "cols = [f\"REV{i}\" for i in range(1, 7)]\n",
    "df[\"MOYENNE_EV\"] = df[cols].sum(axis=1)/len(cols)\n",
    "# reussi\n",
    "df[\"SUCCES\"] = (df[\"MOYENNE_EV\"] > 0.5)\n",
    "# échec, moyen, bon, excellent\n",
    "aca_cuts = [5, 6, 7.9]\n",
    "labels[\"perf_academique\"] = [\"échec\", \"moyen\", \"bon\", \"excellent\"]\n",
    "define_academic_label = partial(define_label, cuts = aca_cuts, labs = labels[\"perf_academique\"])\n",
    "df[\"academic_lab\"] = df[\"MOYENNE_EV\"].apply(define_academic_label)"
   ]
  },
  {
   "cell_type": "code",
   "execution_count": 10,
   "metadata": {},
   "outputs": [],
   "source": [
    "## SCORE NPS\n",
    "cuts = [7, 8]\n",
    "labels[\"NPS\"] = [\"detracteurs\", \"passifs\", \"promoteurs\"]\n",
    "define_nps_label = partial(define_label, cuts = cuts, labs = labels[\"NPS\"])\n",
    "df[\"NPS_LABEL\"] = df[\"NPS.EV6\"].apply(define_nps_label)"
   ]
  },
  {
   "cell_type": "code",
   "execution_count": 11,
   "metadata": {},
   "outputs": [],
   "source": [
    "## ENGAGEMENT PLATEFORME\n",
    "df[\"OC_engag_tx\"] = df[\"OC_JC\"]/15\n",
    "\n",
    "cuts = [0.4,0.75]\n",
    "labels[\"OC_engagement\"] = [\"désengagé(e)\", \"moy. engagé(e)\", \"très engagé(e)\"]\n",
    "define_engag_label = partial(define_label, cuts = cuts, labs = labels[\"OC_engagement\"])\n",
    "df[\"OC_engag_label\"] = df[\"OC_engag_tx\"].apply(define_engag_label)\n",
    "\n",
    "labels[\"OC_frequence\"] = [\"faible\", \"moyenne\", \"haute\"]\n",
    "df[\"OC_F_lab\"] = df[\"OC_F\"].apply(lambda x: labels[\"OC_frequence\"][x-1])"
   ]
  },
  {
   "cell_type": "code",
   "execution_count": 12,
   "metadata": {},
   "outputs": [],
   "source": [
    "## Pour chaque mpodule, quels stagiaires ont assisté à toutes les sessions en présentiel ?\n",
    "for i_mod in range(1,6):\n",
    "    cols = [f\"PJ{i}\" for i in range(1 + (i_mod-1)*3, 4 + (i_mod-1)*3)]\n",
    "    df[f\"present_tout_module_{i_mod}\"] = (df[cols].sum(axis = 1) == 3)"
   ]
  },
  {
   "cell_type": "code",
   "execution_count": 13,
   "metadata": {},
   "outputs": [],
   "source": [
    "## Absence complete pour chaque module\n",
    "for imod in range (1,6):\n",
    "    cols = [f\"PJ{i}\" for i in range(1+(imod-1)*3, 4+(imod-1)*3)]\n",
    "    df[f\"absent_module_{imod}\"] = (df[cols].sum(axis=1) == 0)"
   ]
  },
  {
   "cell_type": "code",
   "execution_count": 14,
   "metadata": {},
   "outputs": [],
   "source": [
    "# le stagiaire a abandonné suite au module\n",
    "for i in range(1,6):\n",
    "    b = ~df[f\"absent_module_{i}\"]\n",
    "    for j in range(i+1, 6):\n",
    "        b = b & df[f\"absent_module_{j}\"]\n",
    "    b = b & (df[\"PEF\"] == 0)\n",
    "    df[f\"abandon_apres_module_{i}\"] = b"
   ]
  },
  {
   "cell_type": "code",
   "execution_count": 15,
   "metadata": {},
   "outputs": [],
   "source": [
    "path_df_stagiaire = path_data / \"df_stagiaire.pkl\"\n",
    "path_df_intervenant = path_data / \"df_intervenant.pkl\"\n",
    "path_labels = path_data / \"labels.pkl\"\n",
    "df.to_pickle(path_df_stagiaire)\n",
    "dfs_e.to_pickle(path_df_intervenant)\n",
    "with open(path_labels, \"wb\") as f: joblib.dump(labels, f)"
   ]
  }
 ],
 "metadata": {
  "kernelspec": {
   "display_name": ".venv",
   "language": "python",
   "name": "python3"
  },
  "language_info": {
   "codemirror_mode": {
    "name": "ipython",
    "version": 3
   },
   "file_extension": ".py",
   "mimetype": "text/x-python",
   "name": "python",
   "nbconvert_exporter": "python",
   "pygments_lexer": "ipython3",
   "version": "3.10.6"
  },
  "orig_nbformat": 4,
  "vscode": {
   "interpreter": {
    "hash": "1f60db0b487e58e23ccb7d96ed9a2787f210c2b4498dd558c03be219b1ec385c"
   }
  }
 },
 "nbformat": 4,
 "nbformat_minor": 2
}
